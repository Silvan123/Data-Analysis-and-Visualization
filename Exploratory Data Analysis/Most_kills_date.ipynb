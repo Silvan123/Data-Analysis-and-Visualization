{
 "cells": [
  {
   "cell_type": "code",
   "execution_count": 23,
   "metadata": {
    "scrolled": false
   },
   "outputs": [
    {
     "data": {
      "text/html": [
       "<iframe id=\"igraph\" scrolling=\"no\" style=\"border:none;\" seamless=\"seamless\" src=\"https://plot.ly/~WillemvanderSpek/22.embed\" height=\"525px\" width=\"100%\"></iframe>"
      ],
      "text/plain": [
       "<plotly.tools.PlotlyDisplay object>"
      ]
     },
     "execution_count": 23,
     "metadata": {},
     "output_type": "execute_result"
    }
   ],
   "source": [
    "import pandas as pd\n",
    "import pprint as pp \n",
    "import plotly.plotly as py\n",
    "import plotly\n",
    "import plotly.graph_objs as go\n",
    "plotly.tools.set_credentials_file(username='WillemvanderSpek', api_key='dExnRSRgQdbBPdozlXy1')\n",
    "\n",
    "'''df = pd.read_csv('../data/AllGunShootings.csv') \n",
    "df['count'] = df.groupby('date')['date'].transform(pd.Series.value_counts)\n",
    "df = df.sort_values(by=['n_killed'], ascending = False)'''\n",
    "\n",
    "'''def ordered_set(dfList):\n",
    "    seen = set()\n",
    "    seen_add = seen.add\n",
    "    return [x for x in dfList if not (x in seen or seen_add(x))]\n",
    "\n",
    "most_incidents = ordered_set(dfList)\n",
    "print('Dates with most incidents in order: ')\n",
    "pp.pprint(most_incidents)  '''    \n",
    "\n",
    "trace = go.Table(\n",
    "    header = dict(values=['date', 'state', 'city or county', 'guns involved', 'killed', 'injured']),\n",
    "    cells = dict(values=[df['date'][:10],\n",
    "                         df['state'][:10],\n",
    "                         df['city_or_county'][:10],\n",
    "                         df['n_guns_involved'][:10].fillna('unknown'),\n",
    "                         df['n_killed'][:10],\n",
    "                         df['n_injured'][:10]\n",
    "                         ]))\n",
    "\n",
    "data = [trace] \n",
    "py.iplot(data, filename = 'basic_table')"
   ]
  },
  {
   "cell_type": "code",
   "execution_count": null,
   "metadata": {},
   "outputs": [],
   "source": []
  },
  {
   "cell_type": "code",
   "execution_count": null,
   "metadata": {},
   "outputs": [],
   "source": []
  }
 ],
 "metadata": {
  "kernelspec": {
   "display_name": "Python 3",
   "language": "python",
   "name": "python3"
  },
  "language_info": {
   "codemirror_mode": {
    "name": "ipython",
    "version": 3
   },
   "file_extension": ".py",
   "mimetype": "text/x-python",
   "name": "python",
   "nbconvert_exporter": "python",
   "pygments_lexer": "ipython3",
   "version": "3.5.2"
  }
 },
 "nbformat": 4,
 "nbformat_minor": 2
}
