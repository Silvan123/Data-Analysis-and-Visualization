{
 "cells": [
  {
   "cell_type": "code",
   "execution_count": null,
   "metadata": {},
   "outputs": [],
   "source": []
  },
  {
   "cell_type": "code",
   "execution_count": 4,
   "metadata": {
    "scrolled": false
   },
   "outputs": [
    {
     "data": {
      "text/html": [
       "<iframe id=\"igraph\" scrolling=\"no\" style=\"border:none;\" seamless=\"seamless\" src=\"https://plot.ly/~voetbalsil/4.embed\" height=\"600px\" width=\"600px\"></iframe>"
      ],
      "text/plain": [
       "<plotly.tools.PlotlyDisplay object>"
      ]
     },
     "execution_count": 4,
     "metadata": {},
     "output_type": "execute_result"
    }
   ],
   "source": [
    "import pandas as pd\n",
    "import pprint as pp\n",
    "import plotly.plotly as py\n",
    "import plotly.graph_objs as go\n",
    "\n",
    "df = pd.read_csv('../data/AllGunShootings.csv') \n",
    "df.insert(value = [kill + inj for kill, inj in zip(df['n_killed'], \n",
    "          df['n_injured'])], loc= df.shape[1], column = 'casualties')\n",
    "\n",
    "def get_year_data():\n",
    "    old_year = 2014\n",
    "    casualties_num = 0\n",
    "    incidents_num = 0\n",
    "    killed_num = 0\n",
    "    inj_num = 0\n",
    "    killed = []\n",
    "    inj = []\n",
    "    incidents = []\n",
    "    years = []\n",
    "    casualties = []\n",
    "    df_len = df.shape[0]\n",
    "\n",
    "    for i in range(278, df_len):\n",
    "        if int(df.iloc[i, 2][:4]) == old_year:\n",
    "            killed_num += df.iloc[i, 7]\n",
    "            inj_num += df.iloc[i, 8]\n",
    "            incidents_num += 1\n",
    "        else:\n",
    "            killed.append(killed_num)\n",
    "            inj.append(inj_num)\n",
    "            incidents.append(incidents_num)\n",
    "            years.append(old_year)\n",
    "            old_year += 1\n",
    "            casualties_num = 0\n",
    "            incidents_num = 0 \n",
    "            killed_num = 0\n",
    "            inj_num = 0\n",
    "    return [years, incidents, killed, inj]\n",
    "\n",
    "#year_data = get_year_data()\n",
    "trace1 = go.Bar(\n",
    "    x=year_data[0],\n",
    "    y=year_data[3],\n",
    "    name='injuries per year'\n",
    ")\n",
    "\n",
    "trace2 = go.Bar(\n",
    "    x=year_data[0],\n",
    "    y=year_data[1],\n",
    "    name='incidents per year'\n",
    ")\n",
    "\n",
    "trace3 = go.Bar(\n",
    "    x=year_data[0],\n",
    "    y=year_data[2],\n",
    "    name='deaths per year'\n",
    ")\n",
    "\n",
    "data = [trace1, trace2, trace3]\n",
    "layout = go.Layout(\n",
    "    barmode='group',\n",
    "    width=600,\n",
    "    height=600\n",
    ")\n",
    "\n",
    "fig = go.Figure(data=data, layout=layout)\n",
    "py.iplot(fig, filename='year comparison')   "
   ]
  },
  {
   "cell_type": "code",
   "execution_count": null,
   "metadata": {},
   "outputs": [],
   "source": []
  }
 ],
 "metadata": {
  "kernelspec": {
   "display_name": "Python 3",
   "language": "python",
   "name": "python3"
  },
  "language_info": {
   "codemirror_mode": {
    "name": "ipython",
    "version": 3
   },
   "file_extension": ".py",
   "mimetype": "text/x-python",
   "name": "python",
   "nbconvert_exporter": "python",
   "pygments_lexer": "ipython3",
   "version": "3.5.2"
  }
 },
 "nbformat": 4,
 "nbformat_minor": 2
}
