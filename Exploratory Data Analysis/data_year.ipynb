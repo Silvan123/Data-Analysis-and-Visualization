{
 "cells": [
  {
   "cell_type": "code",
   "execution_count": 1,
   "metadata": {
    "scrolled": false
   },
   "outputs": [
    {
     "name": "stdout",
     "output_type": "stream",
     "text": [
      "casualties per year:\n",
      "[(2013, 1296),\n",
      " (2014, 35559),\n",
      " (2015, 40449),\n",
      " (2016, 45645),\n",
      " (2017, 46213),\n",
      " (2018, 9704)]\n",
      "\n",
      "incidents per year\n",
      "[(2013, 278),\n",
      " (2014, 51853),\n",
      " (2015, 53578),\n",
      " (2016, 58762),\n",
      " (2017, 61400),\n",
      " (2018, 13801)]\n"
     ]
    }
   ],
   "source": [
    "import pandas as pd\n",
    "import pprint as pp\n",
    "\n",
    "df = pd.read_csv('../data/AllGunShootings.csv') \n",
    "df.insert(value = [kill + inj for kill, inj in zip(df['n_killed'], \n",
    "          df['n_injured'])], loc= df.shape[1], column = 'casualties')\n",
    "\n",
    "old_year = 2013\n",
    "casualties_num = 0\n",
    "incidents_num = 0\n",
    "casualties = []\n",
    "incidents = []\n",
    "\n",
    "for i in range(df.shape[0]):\n",
    "    if int(df.iloc[i, 2][:4]) == old_year:\n",
    "        casualties_num += df.iloc[i, 19]\n",
    "        incidents_num += 1\n",
    "    else:\n",
    "        casualties.append((old_year,casualties_num))\n",
    "        incidents.append((old_year, incidents_num))\n",
    "        old_year += 1\n",
    "        casualties_num = 0\n",
    "        incidents_num = 0\n",
    "casualties.append((old_year,casualties_num))\n",
    "incidents.append((old_year, incidents_num))\n",
    "\n",
    "print('casualties per year:')\n",
    "pp.pprint(casualties)\n",
    "print()\n",
    "print('incidents per year')\n",
    "pp.pprint(incidents)\n",
    "        \n",
    "        \n",
    "        \n",
    "        "
   ]
  },
  {
   "cell_type": "code",
   "execution_count": null,
   "metadata": {},
   "outputs": [],
   "source": []
  },
  {
   "cell_type": "code",
   "execution_count": null,
   "metadata": {},
   "outputs": [],
   "source": []
  }
 ],
 "metadata": {
  "kernelspec": {
   "display_name": "Python 3",
   "language": "python",
   "name": "python3"
  },
  "language_info": {
   "codemirror_mode": {
    "name": "ipython",
    "version": 3
   },
   "file_extension": ".py",
   "mimetype": "text/x-python",
   "name": "python",
   "nbconvert_exporter": "python",
   "pygments_lexer": "ipython3",
   "version": "3.5.2"
  }
 },
 "nbformat": 4,
 "nbformat_minor": 2
}
