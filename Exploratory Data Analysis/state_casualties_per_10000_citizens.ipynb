{
 "cells": [
  {
   "cell_type": "code",
   "execution_count": null,
   "metadata": {},
   "outputs": [],
   "source": []
  },
  {
   "cell_type": "code",
   "execution_count": 76,
   "metadata": {},
   "outputs": [
    {
     "data": {
      "text/plain": [
       "{'Alabama': 10.006673166833068,\n",
       " 'Alaska': 8.002216830338133,\n",
       " 'Arizona': 3.1213165969952694,\n",
       " 'Arkansas': 7.056601600583701,\n",
       " 'California': 3.340191695032961,\n",
       " 'Colorado': 3.4402479403989976,\n",
       " 'Connecticut': 4.456293211273446,\n",
       " 'Delaware': 11.123366450471392,\n",
       " 'District of Columbia': 27.00397134178324,\n",
       " 'Florida': 5.232934942147501,\n",
       " 'Georgia': 6.243900044288351,\n",
       " 'Hawaii': 1.0367499849391049,\n",
       " 'Idaho': 1.8346561301103181,\n",
       " 'Illinois': 13.219004527643795,\n",
       " 'Indiana': 6.845844599327595,\n",
       " 'Iowa': 3.4777511347990964,\n",
       " 'Kansas': 5.056429131210732,\n",
       " 'Kentucky': 6.645429729183023,\n",
       " 'Louisiana': 14.040419415101361,\n",
       " 'Maine': 1.8264744476973322,\n",
       " 'Maryland': 8.026863721930141,\n",
       " 'Massachusetts': 3.167722063803724,\n",
       " 'Michigan': 4.595319298905646,\n",
       " 'Minnesota': 2.4692438375599783,\n",
       " 'Mississippi': 10.250996950504339,\n",
       " 'Missouri': 9.357929262495068,\n",
       " 'Montana': 2.760608590442773,\n",
       " 'Nebraska': 4.682106333290974,\n",
       " 'Nevada': 5.837148882986512,\n",
       " 'New Hampshire': 1.7277395283717918,\n",
       " 'New Jersey': 4.117417921472357,\n",
       " 'New Mexico': 4.971097712241448,\n",
       " 'New York': 3.4076598490463113,\n",
       " 'North Carolina': 6.671586158415227,\n",
       " 'North Dakota': 2.634390310738913,\n",
       " 'Ohio': 7.042864204468989,\n",
       " 'Oklahoma': 6.337029212916041,\n",
       " 'Oregon': 2.751778034824958,\n",
       " 'Pennsylvania': 5.818576760974569,\n",
       " 'Rhode Island': 3.859805084561818,\n",
       " 'South Carolina': 9.342466685866425,\n",
       " 'South Dakota': 2.34572813010972,\n",
       " 'Tennessee': 9.383583999008932,\n",
       " 'Texas': 3.9399961758860647,\n",
       " 'Utah': 2.2051477303903853,\n",
       " 'Vermont': 2.084479128751862,\n",
       " 'Virginia': 5.932689651264106,\n",
       " 'Washington': 2.8896492897471595,\n",
       " 'West Virginia': 5.41892891345519,\n",
       " 'Wisconsin': 5.140210056694153,\n",
       " 'Wyoming': 2.1577207564105882}"
      ]
     },
     "execution_count": 76,
     "metadata": {},
     "output_type": "execute_result"
    }
   ],
   "source": [
    "import pandas as pd\n",
    "import pprint as pp\n",
    "\n",
    "df = pd.read_csv('../data/AllGunShootings.csv') \n",
    "df.insert(value = [(kill + inj) for kill, inj in zip(df['n_killed'], \n",
    "          df['n_injured'])], loc= df.shape[1], column = 'casualties')\n",
    "# calculate the sum of all casualties per state\n",
    "df['total_casualties_state'] = df.groupby(['state'])['casualties'].transform(sum)\n",
    "df.insert(value = [(total_casualties_state / state_population * 10000) for total_casualties_state, state_population in zip(df['total_casualties_state'],\n",
    "          df['state_population'])], loc= df.shape[1], column = 'casualties_per_10000_citizens')\n",
    "df.head()\n",
    "# reduce dataframe to only unique states and casualties and convert to dictionary\n",
    "(df.groupby('state').apply(lambda x: x.groupby('state_population').casualties_per_10000_citizens.first().sum()).to_dict())"
   ]
  },
  {
   "cell_type": "code",
   "execution_count": null,
   "metadata": {},
   "outputs": [],
   "source": []
  },
  {
   "cell_type": "code",
   "execution_count": null,
   "metadata": {},
   "outputs": [],
   "source": []
  }
 ],
 "metadata": {
  "kernelspec": {
   "display_name": "Python 3",
   "language": "python",
   "name": "python3"
  },
  "language_info": {
   "codemirror_mode": {
    "name": "ipython",
    "version": 3
   },
   "file_extension": ".py",
   "mimetype": "text/x-python",
   "name": "python",
   "nbconvert_exporter": "python",
   "pygments_lexer": "ipython3",
   "version": "3.6.3"
  }
 },
 "nbformat": 4,
 "nbformat_minor": 2
}
