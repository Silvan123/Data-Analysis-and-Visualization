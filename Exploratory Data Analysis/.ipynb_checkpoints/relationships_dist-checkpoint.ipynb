{
 "cells": [
  {
   "cell_type": "code",
   "execution_count": 3,
   "metadata": {},
   "outputs": [
    {
     "data": {
      "text/html": [
       "<iframe id=\"igraph\" scrolling=\"no\" style=\"border:none;\" seamless=\"seamless\" src=\"https://plot.ly/~WillemvanderSpek/2.embed\" height=\"525px\" width=\"100%\"></iframe>"
      ],
      "text/plain": [
       "<plotly.tools.PlotlyDisplay object>"
      ]
     },
     "execution_count": 3,
     "metadata": {},
     "output_type": "execute_result"
    }
   ],
   "source": [
    "import pandas as pd\n",
    "import plotly.plotly as py\n",
    "import plotly.plotly \n",
    "import plotly.graph_objs as go\n",
    "plotly.tools.set_credentials_file(username='WillemvanderSpek', api_key='dExnRSRgQdbBPdozlXy1')\n",
    "\n",
    "df = pd.read_csv('../data/AllGunShootings.csv') \n",
    "dfList = df['participant_relationship'].fillna('')\n",
    "df_killed = df['n_killed']\n",
    "\n",
    "\n",
    "### Set string from csv to dict datastructure\n",
    "def to_dict(string_dict):\n",
    "    \n",
    "    # set start values\n",
    "    goal = {}\n",
    "    val = ''\n",
    "    len_string_dict = len(string_dict)\n",
    "    key_switcher = True\n",
    "    \n",
    "    # Iterate over string indices\n",
    "    for i in range(len_string_dict):\n",
    "        # look for token\n",
    "        if string_dict[i] == ':' and key_switcher == True:\n",
    "            key_switcher = False\n",
    "        # look for seperator\n",
    "        elif (string_dict[i] == '|' and key_switcher == False):\n",
    "            key_switcher = True\n",
    "            goal[key] = val\n",
    "            val = ''\n",
    "        # look for key\n",
    "        elif key_switcher == True and \\\n",
    "        not (string_dict[i] == ':' or string_dict[i] == '|'):\n",
    "            key = int(string_dict[i])\n",
    "        # look for value\n",
    "        elif not(string_dict[i] == ':' or string_dict[i] == '|'):\n",
    "            val += string_dict[i]\n",
    "            \n",
    "    # only add to dict if string is not empty\n",
    "    if len_string_dict > 0:\n",
    "        goal[key] = val\n",
    "        \n",
    "    return goal\n",
    "rel_dict = {}\n",
    "# get all dicts in List\n",
    "allrelationships = [to_dict(x) for x in dfList]\n",
    "\n",
    "for relationship in allrelationships:\n",
    "    used_set = set()\n",
    "    for key in relationship:\n",
    "        if relationship[key] not in rel_dict and not relationship[key] in used_set:\n",
    "            rel_dict[relationship[key]] = 1\n",
    "            used_set.add(relationship[key])\n",
    "        elif not relationship[key] in used_set:\n",
    "            rel_dict[relationship[key]] += 1\n",
    "            used_set.add(relationship[key])\n",
    "            \n",
    "labels = [key for key in rel_dict]\n",
    "values = [rel_dict[key] for key in rel_dict]\n",
    "\n",
    "\n",
    "trace = go.Pie(labels=labels, values=values)\n",
    "\n",
    "layout = dict(\n",
    "    title = 'distribution of all known relationships for incidents ')\n",
    "\n",
    "fig = dict(data = [trace], layout = layout)\n",
    "\n",
    "py.iplot(fig, filename='participant_relationships')"
   ]
  },
  {
   "cell_type": "code",
   "execution_count": null,
   "metadata": {},
   "outputs": [],
   "source": []
  },
  {
   "cell_type": "code",
   "execution_count": null,
   "metadata": {},
   "outputs": [],
   "source": []
  }
 ],
 "metadata": {
  "kernelspec": {
   "display_name": "Python 3",
   "language": "python",
   "name": "python3"
  },
  "language_info": {
   "codemirror_mode": {
    "name": "ipython",
    "version": 3
   },
   "file_extension": ".py",
   "mimetype": "text/x-python",
   "name": "python",
   "nbconvert_exporter": "python",
   "pygments_lexer": "ipython3",
   "version": "3.5.2"
  }
 },
 "nbformat": 4,
 "nbformat_minor": 2
}
