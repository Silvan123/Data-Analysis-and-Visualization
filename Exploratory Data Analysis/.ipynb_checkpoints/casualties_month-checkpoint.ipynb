{
 "cells": [
  {
   "cell_type": "code",
   "execution_count": 64,
   "metadata": {},
   "outputs": [
    {
     "data": {
      "text/html": [
       "<iframe id=\"igraph\" scrolling=\"no\" style=\"border:none;\" seamless=\"seamless\" src=\"https://plot.ly/~WillemvanderSpek/8.embed\" height=\"500px\" width=\"700px\"></iframe>"
      ],
      "text/plain": [
       "<plotly.tools.PlotlyDisplay object>"
      ]
     },
     "execution_count": 64,
     "metadata": {},
     "output_type": "execute_result"
    }
   ],
   "source": [
    "import pandas as pd\n",
    "import pprint as pp\n",
    "import matplotlib\n",
    "from datetime import datetime\n",
    "import matplotlib.pyplot as plt\n",
    "\n",
    "def get_axes():\n",
    "    df = pd.read_csv('../data/AllGunShootings.csv') \n",
    "    \n",
    "    # insert casualties(killed AND injured) per incident\n",
    "    df.insert(value = [kill + inj for kill, inj in zip(df['n_killed'], \n",
    "              df['n_injured'])], loc= df.shape[1], column = 'casualties')\n",
    "    \n",
    "    # set start values and constant\n",
    "    old_month = '2014-01'\n",
    "    casualties_num = 0\n",
    "    incidents_num = 0\n",
    "    casualties = []\n",
    "    incidents = []\n",
    "    columns = df.shape[0]\n",
    "    months = []\n",
    "    \n",
    "    # iterate over rows\n",
    "    for i in range(278, columns):\n",
    "        \n",
    "        # increase if month is the same\n",
    "        if df.iloc[i, 2][:7] == old_month:\n",
    "            casualties_num += df.iloc[i, 19]\n",
    "            incidents_num += 1\n",
    "        # gather data if new month is there\n",
    "        else:\n",
    "            casualties.append(casualties_num)\n",
    "            months.append(matplotlib.dates.date2num(\n",
    "                          datetime.strptime(old_month,'%Y-%m')))\n",
    "            incidents.append(incidents_num)\n",
    "\n",
    "            old_month = df.iloc[i, 2][:7]\n",
    "            casualties_num = 0\n",
    "            incidents_num = 0\n",
    "    \n",
    "    # append vals for last month\n",
    "    casualties.append(casualties_num)\n",
    "    incidents.append(incidents_num)\n",
    "    months.append(matplotlib.dates.date2num(datetime.strptime(old_month,\n",
    "                                                              '%Y-%m')))\n",
    "    return [months, casualties]\n",
    "\n",
    "#def pretty_plot(x_vals, y_vals):\n",
    "    \n",
    "# remove right and upper plot frame lines\n",
    "mpl_fig = plt.figure(figsize = (7,5), dpi = 100)\n",
    "ax = mpl_fig.add_subplot(111)\n",
    "ax.spines[\"top\"].set_visible(False)      \n",
    "ax.spines[\"right\"].set_visible(False)   \n",
    "\n",
    "# set axis parameters\n",
    "ax.tick_params(axis='both', which='major', labelsize=8)\n",
    "ax.tick_params(pad=12, axis='x')\n",
    "ax.tick_params(axis='x', which='minor', labelsize=14)\n",
    "\n",
    "# set grid\n",
    "ax.grid(True, linewidth = 0.5, ls='--', alpha = 0.3, which='both')    \n",
    "\n",
    "# set limits \n",
    "ax.set_ylim([2000,4500])\n",
    "ax.set_xlim([datetime.strptime('2014-01', '%Y-%m'), \n",
    "             datetime.strptime('2018-04', '%Y-%m')])\n",
    "\n",
    "# set minor and major formatter/locater for dates\n",
    "ax.xaxis.set_minor_locator(matplotlib.dates.MonthLocator([1,7]))\n",
    "ax.xaxis.set_minor_formatter(matplotlib.dates.DateFormatter('%b'))\n",
    "ax.xaxis.set_major_locator(matplotlib.dates.YearLocator())\n",
    "ax.xaxis.set_major_formatter(matplotlib.dates.DateFormatter('%Y'))\n",
    "\n",
    "# set label text\n",
    "ax.set_xlabel(\"Months\", fontsize = 10, labelpad = 5)\n",
    "ax.set_ylabel(\"Casualties\", fontsize = 10, labelpad = 10)\n",
    "\n",
    "# plot and save\n",
    "ax.plot(axes[0], axes[1], color = [0.212, 0.467, 0.706],\n",
    "        linewidth=1.5, marker = '.', markersize = 3.0)\n",
    "plotly_fig = tls.mpl_to_plotly(mpl_fig)\n",
    "py.iplot(plotly_fig, filename='sine-and-logarithmic-plot')\n",
    "\n",
    "#axes = get_axes()\n",
    "#pretty_plot(axes[0], axes[1])    "
   ]
  },
  {
   "cell_type": "code",
   "execution_count": null,
   "metadata": {},
   "outputs": [],
   "source": []
  },
  {
   "cell_type": "code",
   "execution_count": null,
   "metadata": {},
   "outputs": [],
   "source": []
  }
 ],
 "metadata": {
  "kernelspec": {
   "display_name": "Python 3",
   "language": "python",
   "name": "python3"
  },
  "language_info": {
   "codemirror_mode": {
    "name": "ipython",
    "version": 3
   },
   "file_extension": ".py",
   "mimetype": "text/x-python",
   "name": "python",
   "nbconvert_exporter": "python",
   "pygments_lexer": "ipython3",
   "version": "3.5.2"
  }
 },
 "nbformat": 4,
 "nbformat_minor": 2
}
