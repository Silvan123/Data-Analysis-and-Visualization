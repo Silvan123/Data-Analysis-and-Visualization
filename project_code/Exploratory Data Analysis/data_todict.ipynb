{
 "cells": [
  {
   "cell_type": "code",
   "execution_count": 38,
   "metadata": {},
   "outputs": [
    {
     "name": "stdout",
     "output_type": "stream",
     "text": [
      "['Family', 'Drive by - Random victims', 'Aquaintance', 'Gang vs Gang', 'Significant others - current or former', 'Armed Robbery', 'Mass shooting - Random victims', 'Mass shooting - Perp Knows Victims', 'Co-worker', 'Neighbor', 'Friends', 'Home Invasion - Perp Does Not Know Victim', 'Home Invasion - Perp Knows Victim']\n"
     ]
    }
   ],
   "source": [
    "import pandas as pd\n",
    "import pprint as pp\n",
    "\n",
    "df = pd.read_csv('../data/AllGunShootings.csv') \n",
    "dfList = df['participant_relationship'].fillna('')\n",
    "\n",
    "### Set string from csv to dict datastructure\n",
    "def to_dict(string_dict):\n",
    "    \n",
    "    # set start values\n",
    "    goal = {}\n",
    "    val = ''\n",
    "    len_string_dict = len(string_dict)\n",
    "    key_switcher = True\n",
    "    \n",
    "    # Iterate over string indices\n",
    "    for i in range(len_string_dict):\n",
    "        # look for token\n",
    "        if string_dict[i] == ':' and key_switcher == True:\n",
    "            key_switcher = False\n",
    "        # look for seperator\n",
    "        elif (string_dict[i] == '|' and key_switcher == False):\n",
    "            key_switcher = True\n",
    "            goal[key] = val\n",
    "            val = ''\n",
    "        # look for key\n",
    "        elif key_switcher == True and \\\n",
    "        not (string_dict[i] == ':' or string_dict[i] == '|'):\n",
    "            key = int(string_dict[i])\n",
    "        # look for value\n",
    "        elif not(string_dict[i] == ':' or string_dict[i] == '|'):\n",
    "            val += string_dict[i]\n",
    "            \n",
    "    # only add to dict if string is not empty\n",
    "    if len_string_dict > 0:\n",
    "        goal[key] = val\n",
    "        \n",
    "    return goal\n",
    "len_list = []\n",
    "# get all dicts in List\n",
    "allrelationships = [to_dict(x) for x in dfList]\n",
    "\n",
    "df_killed = df['n_killed']\n",
    "\n",
    "for relationship in allrelationships:\n",
    "    for key in relationship:\n",
    "        if relationship[key] not in len_list:\n",
    "            len_list.append(relationship[key])\n",
    "print(len_list)\n",
    "            \n",
    "        \n",
    "\n",
    "\n"
   ]
  },
  {
   "cell_type": "code",
   "execution_count": null,
   "metadata": {},
   "outputs": [],
   "source": []
  }
 ],
 "metadata": {
  "kernelspec": {
   "display_name": "Python 3",
   "language": "python",
   "name": "python3"
  },
  "language_info": {
   "codemirror_mode": {
    "name": "ipython",
    "version": 3
   },
   "file_extension": ".py",
   "mimetype": "text/x-python",
   "name": "python",
   "nbconvert_exporter": "python",
   "pygments_lexer": "ipython3",
   "version": "3.6.4"
  }
 },
 "nbformat": 4,
 "nbformat_minor": 2
}
