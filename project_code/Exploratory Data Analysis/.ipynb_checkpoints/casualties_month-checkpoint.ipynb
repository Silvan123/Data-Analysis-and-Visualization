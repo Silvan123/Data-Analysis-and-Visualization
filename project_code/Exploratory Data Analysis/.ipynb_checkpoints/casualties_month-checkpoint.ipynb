{
 "cells": [
  {
   "cell_type": "code",
   "execution_count": 45,
   "metadata": {},
   "outputs": [
    {
     "data": {
      "text/html": [
       "<iframe id=\"igraph\" scrolling=\"no\" style=\"border:none;\" seamless=\"seamless\" src=\"https://plot.ly/~WillemvanderSpek/11.embed\" height=\"525px\" width=\"100%\"></iframe>"
      ],
      "text/plain": [
       "<plotly.tools.PlotlyDisplay object>"
      ]
     },
     "execution_count": 45,
     "metadata": {},
     "output_type": "execute_result"
    }
   ],
   "source": [
    "import pandas as pd\n",
    "import pprint as pp\n",
    "import plotly.plotly as py\n",
    "import plotly.graph_objs as go\n",
    "import datetime as datetime\n",
    "\n",
    "df = pd.read_csv('../data/AllGunShootings.csv') \n",
    "\n",
    "def get_axes():\n",
    "    \n",
    "    # insert casualties(casualties AND injured) per incident\n",
    "    df.insert(value = [kill + inj for kill, inj in zip(df['n_killed'], \n",
    "              df['n_injured'])], loc= df.shape[1], column = 'casualties')\n",
    "    \n",
    "    # set start values and constant\n",
    "    old_month = 1\n",
    "    casualties_num = 0\n",
    "    incidents_num = 0\n",
    "    incidents = []\n",
    "    casualties = []\n",
    "    columns = df.shape[0]\n",
    "    \n",
    "    # iterate over rows\n",
    "    for i in range(278, columns):\n",
    "        \n",
    "        # increase if month is the same\n",
    "        if int(df.iloc[i, 2][5:7]) == old_month:\n",
    "            casualties_num += df.iloc[i, 19]\n",
    "            incidents_num += 1\n",
    "        # gather data if new month is there\n",
    "        elif(len(incidents) != 12):\n",
    "            if old_month < 4:\n",
    "                casualties.append(0.2 * casualties_num)\n",
    "                incidents.append(0.2 * incidents_num)\n",
    "                old_month = int(df.iloc[i, 2][5:7])\n",
    "                inj_num = 0\n",
    "                casualties_num = 0\n",
    "                incidents_num = 0\n",
    "            else:\n",
    "                casualties.append(0.25 * casualties_num)\n",
    "                incidents.append(0.25* incidents_num)\n",
    "                old_month = int(df.iloc[i, 2][5:7])\n",
    "                inj_num = 0\n",
    "                casualties_num = 0\n",
    "                incidents_num = 0\n",
    "        else:\n",
    "            if old_month < 4:\n",
    "                casualties[old_month - 1] += 0.2 * casualties_num\n",
    "                incidents[old_month - 1] += 0.2 * incidents_num\n",
    "                old_month = int(df.iloc[i, 2][5:7])\n",
    "                inj_num = 0\n",
    "                casualties_num = 0\n",
    "                incidents_num = 0\n",
    "            else:\n",
    "                casualties[old_month - 1] += 0.25 * casualties_num\n",
    "                incidents[old_month - 1] += 0.25 * incidents_num\n",
    "                old_month = int(df.iloc[i, 2][5:7])\n",
    "                inj_num = 0\n",
    "                casualties_num = 0\n",
    "                incidents_num = 0\n",
    "    \n",
    "    # append vals for last month\n",
    "    casualties[old_month - 1] += 0.2 * casualties_num\n",
    "    incidents[old_month - 1] += 0.2 * incidents_num\n",
    "    return [casualties, incidents]\n",
    "\n",
    "months = [datetime.date(2008, i, 1).strftime('%B') for i in range(1,13)]\n",
    "\n",
    "axes = get_axes()\n",
    "\n",
    "trace0 = go.Scatter(\n",
    "    x= months,\n",
    "    y = axes[1],\n",
    "    name = 'incidents'\n",
    ")\n",
    "trace1 = go.Scatter(\n",
    "    x = months ,\n",
    "    y = axes[0],\n",
    "    name = 'casualties'\n",
    ")\n",
    "data = [trace0, trace1]\n",
    "py.iplot(data, filename='data_month')"
   ]
  },
  {
   "cell_type": "code",
   "execution_count": null,
   "metadata": {},
   "outputs": [],
   "source": []
  },
  {
   "cell_type": "code",
   "execution_count": null,
   "metadata": {},
   "outputs": [],
   "source": []
  }
 ],
 "metadata": {
  "kernelspec": {
   "display_name": "Python 3",
   "language": "python",
   "name": "python3"
  },
  "language_info": {
   "codemirror_mode": {
    "name": "ipython",
    "version": 3
   },
   "file_extension": ".py",
   "mimetype": "text/x-python",
   "name": "python",
   "nbconvert_exporter": "python",
   "pygments_lexer": "ipython3",
   "version": "3.5.2"
  }
 },
 "nbformat": 4,
 "nbformat_minor": 2
}
