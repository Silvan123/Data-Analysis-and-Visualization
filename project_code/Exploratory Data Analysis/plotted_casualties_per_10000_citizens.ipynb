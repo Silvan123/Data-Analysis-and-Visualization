{
 "cells": [
  {
   "cell_type": "code",
   "execution_count": 24,
   "metadata": {},
   "outputs": [],
   "source": [
    "import plotly\n",
    "plotly.tools.set_credentials_file(username='voetbalsil', api_key='KFhqOVbLWZOtrYwHkj4Z')\n",
    "import plotly.plotly as py\n",
    "import pandas as pd"
   ]
  },
  {
   "cell_type": "code",
   "execution_count": 26,
   "metadata": {},
   "outputs": [
    {
     "data": {
      "text/html": [
       "<iframe id=\"igraph\" scrolling=\"no\" style=\"border:none;\" seamless=\"seamless\" src=\"https://plot.ly/~voetbalsil/10.embed\" height=\"525px\" width=\"100%\"></iframe>"
      ],
      "text/plain": [
       "<plotly.tools.PlotlyDisplay object>"
      ]
     },
     "execution_count": 26,
     "metadata": {},
     "output_type": "execute_result"
    }
   ],
   "source": [
    "df = pd.read_csv('../data/casualties_per_10000_citizens.csv') \n",
    "\n",
    "for col in df.columns:\n",
    "    df[col] = df[col].astype(str)\n",
    "\n",
    "# define colors that are used for the plot\n",
    "scl = [[0.0, '#deb7af'],[0.2, '#e6a3a3'],[0.4, '#cc7a7a'],\\\n",
    "            [0.6, '#b35252'],[0.8, '#992929'],[1.0, '#800000']]\n",
    "\n",
    "# define description for each state\n",
    "df['text'] = df['state'] + '<br>' +\\\n",
    "    'Total casualties: '+ df['total_casualties_state']+ '<br>' +\\\n",
    "    'Percentage killed: '+ df['killed_percentage_state']+ '<br>' +\\\n",
    "    'Percentage injured: '+ df['injured_percentage_state']+ '<br>' +\\\n",
    "    'Population: '+df['state_population']\n",
    "\n",
    "# gather data used for plot\n",
    "data = [ dict(\n",
    "        type='choropleth',\n",
    "        colorscale = scl,\n",
    "        autocolorscale = False,\n",
    "        locations = df['code'],\n",
    "        z = df['casualties_per_10000_citizens'].astype(float),\n",
    "        locationmode = 'USA-states',\n",
    "        text = df['text'],\n",
    "        marker = dict(\n",
    "            line = dict (\n",
    "                color = 'rgb(255,255,255)',\n",
    "                width = 2\n",
    "            ) ),\n",
    "        colorbar = dict(\n",
    "            title = \"Casualties per 10000 citizens\")\n",
    "        ) ]\n",
    "\n",
    "# construct layout for the plot\n",
    "layout = dict(\n",
    "        title = 'Gun violence casualties per 10000 citizens for each state',\n",
    "        geo = dict(\n",
    "            scope='usa',\n",
    "            projection=dict( type='albers usa' ),\n",
    "            showlakes = True,\n",
    "            lakecolor = 'rgb(255, 255, 255)'),\n",
    "             )\n",
    "# plot the interactive figure    \n",
    "fig = dict( data=data, layout=layout )\n",
    "py.iplot( fig, filename='Casualties per 10000 citizens' )"
   ]
  },
  {
   "cell_type": "code",
   "execution_count": null,
   "metadata": {},
   "outputs": [],
   "source": []
  },
  {
   "cell_type": "code",
   "execution_count": null,
   "metadata": {},
   "outputs": [],
   "source": []
  }
 ],
 "metadata": {
  "kernelspec": {
   "display_name": "Python 3",
   "language": "python",
   "name": "python3"
  },
  "language_info": {
   "codemirror_mode": {
    "name": "ipython",
    "version": 3
   },
   "file_extension": ".py",
   "mimetype": "text/x-python",
   "name": "python",
   "nbconvert_exporter": "python",
   "pygments_lexer": "ipython3",
   "version": "3.6.4"
  }
 },
 "nbformat": 4,
 "nbformat_minor": 2
}
