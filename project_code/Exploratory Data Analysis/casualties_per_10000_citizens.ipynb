{
 "cells": [
  {
   "cell_type": "code",
   "execution_count": 73,
   "metadata": {},
   "outputs": [],
   "source": [
    "import pandas as pd\n",
    "import pprint as pp\n",
    "import numpy as np"
   ]
  },
  {
   "cell_type": "code",
   "execution_count": 74,
   "metadata": {},
   "outputs": [],
   "source": [
    "code =  {'Alabama': 'AL', 'Alaska': 'AK', 'Arizona': 'AZ', \n",
    "         'Arkansas': 'AR', 'California': 'CA', \n",
    "         'Colorado': 'CO', 'Connecticut': 'CT',\n",
    "         'Delaware': 'DE', 'District of Columbia': 'DC', 'Florida': 'FL', 'Georgia': 'GA', \n",
    "         'Hawaii': 'HI', 'Idaho': 'ID', 'Illinois': 'IL', \n",
    "         'Indiana': 'IN', 'Iowa': 'IA', 'Kansas': 'KS', 'Kentucky': 'KY' , 'Louisiana': 'LA',\n",
    "         'Maine': 'ME', 'Maryland': 'MD', 'Massachusetts': 'MA',\n",
    "         'Michigan': 'MI', 'Minnesota': 'MN', 'Mississippi': 'MS', 'Missouri': 'MO', \n",
    "         'Montana': 'MT', 'Nebraska': 'NE', 'Nevada': 'NV', \n",
    "         'New Hampshire': 'NH', 'New Jersey': 'NJ', 'New Mexico': 'NM', 'New York': 'NY', \n",
    "         'North Carolina': 'NC', 'North Dakota': 'ND', 'Ohio': 'OH', 'Oklahoma': 'OK', \n",
    "         'Oregon': 'OR', 'Pennsylvania': 'PA', 'Rhode Island': 'RI', \n",
    "         'South Carolina': 'SC', 'South Dakota': 'SD', 'Tennessee': 'TN', 'Texas': 'TX', \n",
    "         'Utah': 'UT', 'Vermont': 'VT', 'Virginia': 'VA', 'Washington': 'WA', \n",
    "         'West Virginia': 'WV', 'Wisconsin': 'WI', 'Wyoming': 'WY'}"
   ]
  },
  {
   "cell_type": "code",
   "execution_count": 75,
   "metadata": {
    "scrolled": true
   },
   "outputs": [],
   "source": [
    "df = pd.read_csv('../data/AllGunShootings.csv') \n",
    "\n",
    "# calculate the amount of casualties for each incident and insert into dataframe\n",
    "df.insert(value = [(kill + inj) for kill, inj in zip(df['n_killed'], \n",
    "          df['n_injured'])], loc= df.shape[1], column = 'casualties')\n",
    "\n",
    "# calculate the sum of all casualties per state\n",
    "df['total_casualties_state'] = df.groupby(['state'])['casualties'].transform(sum)\n",
    "df['total_injured_state'] = df.groupby(['state'])['n_injured'].transform(sum)\n",
    "df['total_killed_state'] = df.groupby(['state'])['n_killed'].transform(sum)\n",
    "\n",
    "# calculate amount of casualties per 10000 citizens and insert into dataframe\n",
    "df.insert(value = [(total_casualties_state / state_population * 10000) for total_casualties_state, state_population in zip(df['total_casualties_state'],\n",
    "          df['state_population'])], loc= df.shape[1], column = 'casualties_per_10000_citizens')\n",
    "\n",
    "# calculate percentage of killed casualties and insert into dataframe\n",
    "df.insert(value = [(total_killed_state / total_casualties_state * 100) for total_killed_state, total_casualties_state in zip(df['total_killed_state'],\n",
    "          df['total_casualties_state'])], loc= df.shape[1], column = 'killed_percentage_state')\n",
    "\n",
    "# calculate percentage of injured casualties and insert into dataframe\n",
    "df.insert(value = [(total_injured_state / total_casualties_state * 100) for total_injured_state, total_casualties_state in zip(df['total_injured_state'],\n",
    "          df['total_casualties_state'])], loc= df.shape[1], column = 'injured_percentage_state')\n",
    "\n",
    "# group the data together for each corresponding state\n",
    "df = pd.DataFrame({'count' : df.groupby( [ 'state', 'casualties_per_10000_citizens', 'killed_percentage_state', 'injured_percentage_state', 'total_casualties_state', 'total_injured_state', 'total_killed_state', 'state_population', 'state_gun_laws'] ).size()}).reset_index()\n",
    "\n",
    "# insert the code for each state, so it is supported by the map plot\n",
    "df.insert(value = [code[df.iloc[i,0]] for i in range(df.shape[0])], loc = 0, column = 'code')\n",
    "\n",
    "# delete useless column\n",
    "del df['count']\n",
    "\n",
    "# delete the row with District of Colombia, because this state is not supported by the map plot\n",
    "df = df[~df['state'].isin(['District of Columbia'])]\n",
    "\n",
    "# round the population count to millions\n",
    "df['state_population'] = df.apply(lambda row: str(round(row['state_population'] / 1000000,2)) + 'M', axis=1)\n",
    "\n",
    "# round all floats to floats with two decimals\n",
    "df = df.round(2)\n",
    "\n",
    "# export dataframe to csv\n",
    "file_name= '../data/casualties_per_10000_citizens.csv'\n",
    "df.to_csv(file_name)"
   ]
  },
  {
   "cell_type": "code",
   "execution_count": null,
   "metadata": {},
   "outputs": [],
   "source": []
  }
 ],
 "metadata": {
  "kernelspec": {
   "display_name": "Python 3",
   "language": "python",
   "name": "python3"
  },
  "language_info": {
   "codemirror_mode": {
    "name": "ipython",
    "version": 3
   },
   "file_extension": ".py",
   "mimetype": "text/x-python",
   "name": "python",
   "nbconvert_exporter": "python",
   "pygments_lexer": "ipython3",
   "version": "3.6.3"
  }
 },
 "nbformat": 4,
 "nbformat_minor": 2
}
