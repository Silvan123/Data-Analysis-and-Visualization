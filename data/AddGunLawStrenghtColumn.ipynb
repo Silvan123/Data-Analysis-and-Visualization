{
 "cells": [
  {
   "cell_type": "code",
   "execution_count": 9,
   "metadata": {},
   "outputs": [],
   "source": [
    "dict = {'California': 6, 'New Jersey': 5, 'Connecticut': 5, 'Massachussets': 5, 'Maryland': 4, 'Hawaii': 4, 'Rhode Island': 4, 'New York': 3.5, 'Illinois': 3.5, 'Washington': 3.5, 'Delaware': 3.5, 'Oregon': 3.5, 'Colorado': 3.5, 'Minnesota': 3, 'Iowa': 3, 'Nevada': 3, 'Indiana': 2.5, 'North Carolina': 2.5, 'Texas': 2.5, 'Pennsylvania': 2, 'Nebraska': 2, 'Virginia': 2, 'Tennessee': 2, 'Florida': 2, 'Utah': 2, 'Wisconsin': 1.5, 'Michigan': 1.5, 'New Hampshire': 1.5, 'Alabama': 1.5, 'South Dakota': 1.5, 'Louisiana': 1.5, 'Oklahoma': 1, 'Georgia': 1, 'West Virginia': 1, 'Maine': 1, 'Montana': 1, 'Kentucky': 1, 'Ohio': 0.5, 'South Carolina': 0.5, 'New Mexico': 0.5, 'North Dakota': 0.5, 'Arkansas': 0.5, 'Alaska': 0.5, 'Arizona': 0.5, 'Missouri': 0.5, 'Mississippi': 0.5, 'Kansas': 0, 'Idaho': 0, 'Wyoming': 0, 'Vermont': 0}"
   ]
  },
  {
   "cell_type": "code",
   "execution_count": null,
   "metadata": {},
   "outputs": [],
   "source": []
  }
 ],
 "metadata": {
  "kernelspec": {
   "display_name": "Python 3",
   "language": "python",
   "name": "python3"
  },
  "language_info": {
   "codemirror_mode": {
    "name": "ipython",
    "version": 3
   },
   "file_extension": ".py",
   "mimetype": "text/x-python",
   "name": "python",
   "nbconvert_exporter": "python",
   "pygments_lexer": "ipython3",
   "version": "3.6.3"
  }
 },
 "nbformat": 4,
 "nbformat_minor": 2
}
