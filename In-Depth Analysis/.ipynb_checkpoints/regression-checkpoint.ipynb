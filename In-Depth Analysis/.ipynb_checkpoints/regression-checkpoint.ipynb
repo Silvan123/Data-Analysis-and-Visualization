{
 "cells": [
  {
   "cell_type": "code",
   "execution_count": 73,
   "metadata": {},
   "outputs": [
    {
     "name": "stdout",
     "output_type": "stream",
     "text": [
      "0.000975895225656 0.642571737689\n"
     ]
    },
    {
     "data": {
      "image/png": "[encoded data removed]",
      "text/plain": [
       "<matplotlib.figure.Figure at 0x7fbcb7b491d0>"
      ]
     },
     "metadata": {},
     "output_type": "display_data"
    }
   ],
   "source": [
    "import pandas as pd\n",
    "import pprint as pp\n",
    "import numpy as np\n",
    "import matplotlib.pyplot as plt\n",
    "\n",
    "df = pd.read_csv('../data/AllGunShootings.csv')\n",
    "\n",
    "df.insert(value = [kill + inj for kill, inj in \n",
    "           zip(df['n_killed'].fillna(0), df['n_injured'].fillna(0))],\n",
    "           column = 'casualties', loc = df.shape[1])\n",
    "\n",
    "df_ages = df['participant_age'].fillna('')\n",
    "df_types = df['participant_type'].fillna('')\n",
    "df_casualties = df['casualties']\n",
    "\n",
    "\n",
    "\n",
    "\n",
    "df_ages = [to_dict(ages) for ages in df_ages]\n",
    "df_types = [to_dict(types) for types in df_types]\n",
    "\n",
    "\n",
    "x_ages = []\n",
    "y_casualties = []\n",
    "\n",
    "for ages, particip_types, casualties in zip(df_ages, df_types, \n",
    "                                           df_casualties):\n",
    "    for type_key in particip_types:\n",
    "        if 'suspect' in particip_types[type_key].lower() and type_key in ages:\n",
    "            if int(ages[type_key]) < 111: \n",
    "                x_ages.append(int(ages[type_key]))\n",
    "                y_casualties.append(casualties)\n",
    "\n",
    "\n",
    "X = np.vstack(x_ages)\n",
    "X = np.column_stack((X, np.ones(X.shape[0])))\n",
    "\n",
    "# Set up Y as the target price of the houses.\n",
    "Y = y_casualties\n",
    "\n",
    "a, b = np.linalg.lstsq(X, Y)[0]\n",
    "print(a, b)\n",
    "\n",
    "plt.plot(x_ages,[x*a +b for x in x_ages],color='red',lw=1.5, zorder=2)\n",
    "plt.scatter(x_ages,y_casualties,s=3,color='mediumblue', zorder=1)\n",
    "plt.savefig(fname='regression_age_casualties', dpi= 300)\n"
   ]
  },
  {
   "cell_type": "code",
   "execution_count": 2,
   "metadata": {},
   "outputs": [],
   "source": [
    "dfList = df['participant_relationship'].fillna('')\n",
    "\n",
    "### Set string from csv to dict datastructure\n",
    "def to_dict(string_dict):\n",
    "    \n",
    "    # set start values\n",
    "    goal = {}\n",
    "    val = ''\n",
    "    len_string_dict = len(string_dict)\n",
    "    key_switcher = True\n",
    "    \n",
    "    # Iterate over string indices\n",
    "    for i in range(len_string_dict):\n",
    "        # look for token\n",
    "        if string_dict[i] == ':' and key_switcher == True:\n",
    "            key_switcher = False\n",
    "        # look for seperator\n",
    "        elif (string_dict[i] == '|' and key_switcher == False):\n",
    "            key_switcher = True\n",
    "            goal[key] = val\n",
    "            val = ''\n",
    "        # look for key\n",
    "        elif key_switcher == True and \\\n",
    "        not (string_dict[i] == ':' or string_dict[i] == '|'):\n",
    "            key = int(string_dict[i])\n",
    "        # look for value\n",
    "        elif not(string_dict[i] == ':' or string_dict[i] == '|'):\n",
    "            val += string_dict[i]\n",
    "            \n",
    "    # only add to dict if string is not empty\n",
    "    if len_string_dict > 0:\n",
    "        goal[key] = val\n",
    "        \n",
    "    return goal"
   ]
  },
  {
   "cell_type": "code",
   "execution_count": 22,
   "metadata": {},
   "outputs": [],
   "source": [
    "def ordered_set(dfList):\n",
    "    seen = set()\n",
    "    seen_add = seen.add\n",
    "    return [x for x in dfList if not (x in seen or seen_add(x))]"
   ]
  },
  {
   "cell_type": "code",
   "execution_count": null,
   "metadata": {},
   "outputs": [],
   "source": []
  }
 ],
 "metadata": {
  "kernelspec": {
   "display_name": "Python 3",
   "language": "python",
   "name": "python3"
  },
  "language_info": {
   "codemirror_mode": {
    "name": "ipython",
    "version": 3
   },
   "file_extension": ".py",
   "mimetype": "text/x-python",
   "name": "python",
   "nbconvert_exporter": "python",
   "pygments_lexer": "ipython3",
   "version": "3.5.2"
  }
 },
 "nbformat": 4,
 "nbformat_minor": 2
}
