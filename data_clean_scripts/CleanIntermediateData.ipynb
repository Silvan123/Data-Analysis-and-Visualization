{
 "cells": [
  {
   "cell_type": "code",
   "execution_count": 50,
   "metadata": {
    "scrolled": true
   },
   "outputs": [],
   "source": [
    "import pandas as pd\n",
    "import glob\n",
    "\n",
    "path = 'data/intermediate' # use your path\n",
    "allFiles = glob.glob(path + \"/*.csv\")\n",
    "\n",
    "for file in allFiles:\n",
    "    df = pd.read_csv(file)\n",
    "    df.drop(['congressional_district', 'address', 'incident_url', 'source_url', 'incident_url_fields_missing' \n",
    "        ,'gun_stolen', 'gun_type', 'location_description', 'notes', 'participant_name', 'sources' \n",
    "        ,'state_house_district', 'state_senate_district'], axis=1, inplace=True)\n",
    "    df = df.set_index('incident_id')\n",
    "    file_name = file[18:]\n",
    "    df.to_csv('data/intermediate/' + file_name)\n",
    "    \n",
    "    \n",
    "\n",
    "\n",
    "\n",
    "#print(df['n_killed'].sum())\n",
    "#       #print(31)\n",
    "#df.head()"
   ]
  },
  {
   "cell_type": "code",
   "execution_count": null,
   "metadata": {},
   "outputs": [],
   "source": []
  },
  {
   "cell_type": "code",
   "execution_count": null,
   "metadata": {},
   "outputs": [],
   "source": []
  }
 ],
 "metadata": {
  "kernelspec": {
   "display_name": "Python 3",
   "language": "python",
   "name": "python3"
  },
  "language_info": {
   "codemirror_mode": {
    "name": "ipython",
    "version": 3
   },
   "file_extension": ".py",
   "mimetype": "text/x-python",
   "name": "python",
   "nbconvert_exporter": "python",
   "pygments_lexer": "ipython3",
   "version": "3.5.2"
  }
 },
 "nbformat": 4,
 "nbformat_minor": 2
}
