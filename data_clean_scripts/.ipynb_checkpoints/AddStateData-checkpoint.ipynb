{
 "cells": [
  {
   "cell_type": "code",
   "execution_count": null,
   "metadata": {},
   "outputs": [],
   "source": []
  },
  {
   "cell_type": "code",
   "execution_count": 14,
   "metadata": {},
   "outputs": [
    {
     "data": {
      "text/plain": [
       "\"civs = {'California': 39536653, 'New Jersey': 9005644,\\n        'Connecticut': 3588184, 'Massachussets': 6859819, \\n        'Maryland': 6052177, 'Hawaii': 1427538, \\n        'Rhode Island': 1059639, 'New York': 19849399, \\n        'Illinois': 12802023, 'Washington': 7405743,\\n        'Delaware': 961939, 'Oregon': 4142776, \\n        'Colorado': 5607154, 'Minnesota': 5576606, \\n        'Iowa': 3145711, 'Nevada': 2998039, \\n        'Indiana': 6666818, 'North Carolina': 10273419,\\n        'Texas': 28304596, 'Pennsylvania': 12805537,\\n        'Nebraska': 1920076, 'Virginia': 8470020,\\n        'Tennessee': 6715984, 'Florida': 20984400, \\n        'Utah': 3101833, 'Wisconsin': 5795483, \\n        'Michigan': 9962311, 'New Hampshire': 1342795,\\n        'Alabama': 4874747, 'South Dakota': 869666, \\n        'Louisiana': 4684333, 'Oklahoma': 3930864, \\n        'Georgia': 10429379, 'West Virginia': 1815857, \\n        'Maine': 1335907, 'Montana': 1050493, \\n        'Kentucky': 4454189, 'Ohio': 11658609,\\n        'South Carolina': 5024369, 'New Mexico': 2088070,\\n        'North Dakota': 755393, 'Arkansas': 3004279, \\n        'Alaska': 739795, 'Arizona': 7016270, \\n        'Missouri': 6113532, 'Mississippi': 2984100,\\n        'Kansas': 2913123, 'Idaho': 1716943,\\n        'Wyoming': 579315, 'Vermont': 623657} \""
      ]
     },
     "execution_count": 14,
     "metadata": {},
     "output_type": "execute_result"
    }
   ],
   "source": [
    "import pandas as pd\n",
    "\n",
    "df = pd.read_csv('../data/AllGunShootings.csv')\n",
    "df.head()\n",
    "\n",
    "civs = {'California': 39536653, 'New Jersey': 9005644,\n",
    "        'Connecticut': 3588184, 'Massachussets': 6859819, \n",
    "        'Maryland': 6052177, 'Hawaii': 1427538, \n",
    "        'Rhode Island': 1059639, 'New York': 19849399, \n",
    "        'Illinois': 12802023, 'Washington': 7405743,\n",
    "        'Delaware': 961939, 'Oregon': 4142776, \n",
    "        'Colorado': 5607154, 'Minnesota': 5576606, \n",
    "        'Iowa': 3145711, 'Nevada': 2998039, \n",
    "        'Indiana': 6666818, 'North Carolina': 10273419,\n",
    "        'Texas': 28304596, 'Pennsylvania': 12805537,\n",
    "        'Nebraska': 1920076, 'Virginia': 8470020,\n",
    "        'Tennessee': 6715984, 'Florida': 20984400, \n",
    "        'Utah': 3101833, 'Wisconsin': 5795483, \n",
    "        'Michigan': 9962311, 'New Hampshire': 1342795,\n",
    "        'Alabama': 4874747, 'South Dakota': 869666, \n",
    "        'Louisiana': 4684333, 'Oklahoma': 3930864, \n",
    "        'Georgia': 10429379, 'West Virginia': 1815857, \n",
    "        'Maine': 1335907, 'Montana': 1050493, \n",
    "        'Kentucky': 4454189, 'Ohio': 11658609,\n",
    "        'South Carolina': 5024369, 'New Mexico': 2088070,\n",
    "        'North Dakota': 755393, 'Arkansas': 3004279, \n",
    "        'Alaska': 739795, 'Arizona': 7016270, \n",
    "        'Missouri': 6113532, 'Mississippi': 2984100,\n",
    "        'Kansas': 2913123, 'Idaho': 1716943,\n",
    "        'Wyoming': 579315, 'Vermont': 623657}\n",
    "\n",
    "#df.insert([50 for i in range(df.shape[0]) if df.iloc[i, 5] > 49])\n",
    "        \n",
    "  \n"
   ]
  },
  {
   "cell_type": "code",
   "execution_count": null,
   "metadata": {},
   "outputs": [],
   "source": []
  }
 ],
 "metadata": {
  "kernelspec": {
   "display_name": "Python 3",
   "language": "python",
   "name": "python3"
  },
  "language_info": {
   "codemirror_mode": {
    "name": "ipython",
    "version": 3
   },
   "file_extension": ".py",
   "mimetype": "text/x-python",
   "name": "python",
   "nbconvert_exporter": "python",
   "pygments_lexer": "ipython3",
   "version": "3.5.2"
  }
 },
 "nbformat": 4,
 "nbformat_minor": 2
}
